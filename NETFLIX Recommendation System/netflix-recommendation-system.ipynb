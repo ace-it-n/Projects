{
 "cells": [
  {
   "cell_type": "markdown",
   "metadata": {
    "papermill": {
     "duration": 0.018981,
     "end_time": "2020-10-03T14:38:18.723865",
     "exception": false,
     "start_time": "2020-10-03T14:38:18.704884",
     "status": "completed"
    },
    "tags": []
   },
   "source": [
    "# Netflix Recommendation System"
   ]
  },
  {
   "cell_type": "markdown",
   "metadata": {
    "papermill": {
     "duration": 0.017764,
     "end_time": "2020-10-03T14:38:18.759920",
     "exception": false,
     "start_time": "2020-10-03T14:38:18.742156",
     "status": "completed"
    },
    "tags": []
   },
   "source": [
    "# Data Overview\n",
    "\n",
    "Source - [Netflix Movies and TV Shows](https://www.kaggle.com/shivamb/netflix-shows)\n",
    "\n",
    "TV Shows and Movies listed on Netflix\n",
    "This dataset consists of tv shows and movies available on Netflix as of 2019. The dataset is collected from Flixable which is a third-party Netflix search engine."
   ]
  },
  {
   "cell_type": "markdown",
   "metadata": {
    "papermill": {
     "duration": 0.017094,
     "end_time": "2020-10-03T14:38:18.794645",
     "exception": false,
     "start_time": "2020-10-03T14:38:18.777551",
     "status": "completed"
    },
    "tags": []
   },
   "source": [
    "# Importing Libraries"
   ]
  },
  {
   "cell_type": "code",
   "execution_count": 1,
   "metadata": {
    "_kg_hide-input": true,
    "papermill": {
     "duration": 0.026823,
     "end_time": "2020-10-03T14:38:18.838905",
     "exception": false,
     "start_time": "2020-10-03T14:38:18.812082",
     "status": "completed"
    },
    "tags": []
   },
   "outputs": [],
   "source": [
    "import numpy as np\n",
    "import pandas as pd"
   ]
  },
  {
   "cell_type": "code",
   "execution_count": 2,
   "metadata": {
    "papermill": {
     "duration": 1.104397,
     "end_time": "2020-10-03T14:38:19.960884",
     "exception": false,
     "start_time": "2020-10-03T14:38:18.856487",
     "status": "completed"
    },
    "tags": []
   },
   "outputs": [],
   "source": [
    "import matplotlib as mpl\n",
    "import matplotlib.pyplot as plt\n",
    "import seaborn as sns\n",
    "\n",
    "%matplotlib inline\n",
    "mpl.style.use('ggplot')\n",
    "sns.set_style('white')"
   ]
  },
  {
   "cell_type": "markdown",
   "metadata": {
    "papermill": {
     "duration": 0.017774,
     "end_time": "2020-10-03T14:38:19.996623",
     "exception": false,
     "start_time": "2020-10-03T14:38:19.978849",
     "status": "completed"
    },
    "tags": []
   },
   "source": [
    "# Reading Data"
   ]
  },
  {
   "cell_type": "code",
   "execution_count": 3,
   "metadata": {
    "_cell_guid": "79c7e3d0-c299-4dcb-8224-4455121ee9b0",
    "_kg_hide-input": false,
    "_kg_hide-output": false,
    "_uuid": "d629ff2d2480ee46fbb7e2d37f6b5fab8052498a",
    "papermill": {
     "duration": 0.169601,
     "end_time": "2020-10-03T14:38:20.191387",
     "exception": false,
     "start_time": "2020-10-03T14:38:20.021786",
     "status": "completed"
    },
    "tags": []
   },
   "outputs": [
    {
     "name": "stdout",
     "output_type": "stream",
     "text": [
      "       show_id     type                                    title  \\\n",
      "4572  80240715    Movie                                     ROMA   \n",
      "5641  70157231  TV Show                                 The 4400   \n",
      "340   81018240    Movie                     ​​Kuch Bheege Alfaaz   \n",
      "5001  81014293  TV Show                      Nuestra Lucha Libre   \n",
      "4598  70290567    Movie                           The Short Game   \n",
      "2644  80991033    Movie                             Lust Stories   \n",
      "4135  81146370    Movie  Spirit Riding Free: Spirit of Christmas   \n",
      "2521  80233215  TV Show                           The Chosen One   \n",
      "2191  80124723  TV Show                          Turn Up Charlie   \n",
      "3305  80117453    Movie            Cristela Alonzo: Lower Classy   \n",
      "\n",
      "                                               director  \\\n",
      "4572                                     Alfonso Cuarón   \n",
      "5641                                                NaN   \n",
      "340                                                Onir   \n",
      "5001                                                NaN   \n",
      "4598                                     Josh Greenbaum   \n",
      "2644  Zoya Akhtar, Karan Johar, Anurag Kashyap, Diba...   \n",
      "4135                                                NaN   \n",
      "2521                                 Michel Tikhomiroff   \n",
      "2191                                                NaN   \n",
      "3305                                       Marcus Raboy   \n",
      "\n",
      "                                                   cast  \\\n",
      "4572                 Yalitza Aparicio, Marina de Tavira   \n",
      "5641  Joel Gretsch, Jacqueline McKenzie, Patrick Joh...   \n",
      "340   Geetanjali Thapa, Zain Khan Durrani, Shray Rai...   \n",
      "5001                                                NaN   \n",
      "4598  Sky Sudberry, Allan Kournikova, Jed Dy, Zamoku...   \n",
      "2644  Vicky Kaushal, Bhumi Pednekar, Radhika Apte, N...   \n",
      "4135  Amber Frank, Bailey Gambertoglio, Sydney Park,...   \n",
      "2521  Paloma Bernardi, Renan Tenca, Gutto Szuster, P...   \n",
      "2191  Idris Elba, Piper Perabo, JJ Feild, Frankie He...   \n",
      "3305                                    Cristela Alonzo   \n",
      "\n",
      "                            country          date_added  release_year rating  \\\n",
      "4572          Mexico, United States   December 14, 2018          2018      R   \n",
      "5641  United States, United Kingdom   September 1, 2013          2007  TV-14   \n",
      "340                           India   September 1, 2018          2018  TV-14   \n",
      "5001                            NaN     August 15, 2018          2018  TV-MA   \n",
      "4598                  United States   December 12, 2013          2013     PG   \n",
      "2644                          India       June 15, 2018          2018  TV-MA   \n",
      "4135                  United States    December 6, 2019          2019  TV-Y7   \n",
      "2521                         Brazil       June 28, 2019          2019  TV-MA   \n",
      "2191                 United Kingdom      March 15, 2019          2019  TV-MA   \n",
      "3305                  United States    January 24, 2017          2017  TV-MA   \n",
      "\n",
      "       duration                                          listed_in  \\\n",
      "4572    135 min   Dramas, Independent Movies, International Movies   \n",
      "5641  4 Seasons       TV Dramas, TV Mysteries, TV Sci-Fi & Fantasy   \n",
      "340     110 min   Dramas, Independent Movies, International Movies   \n",
      "5001   1 Season  Docuseries, International TV Shows, Spanish-La...   \n",
      "4598    100 min  Children & Family Movies, Documentaries, Sport...   \n",
      "2644    121 min             Comedies, Dramas, International Movies   \n",
      "4135     46 min                           Children & Family Movies   \n",
      "2521   1 Season    International TV Shows, TV Dramas, TV Mysteries   \n",
      "2191   1 Season  British TV Shows, International TV Shows, TV C...   \n",
      "3305     67 min                                    Stand-Up Comedy   \n",
      "\n",
      "                                            description  \n",
      "4572  Director Alfonso Cuarón delivers a vivid, emot...  \n",
      "5641  4400 people who vanished over the course of fi...  \n",
      "340   After accidentally connecting over the Interne...  \n",
      "5001  This documentary series lifts the mask on Mexi...  \n",
      "4598  They are fiercely competitive athletes, determ...  \n",
      "2644  In the companion to 2013's \"Bombay Talkies,\" f...  \n",
      "4135  Lucky and friends must figure out how to get h...  \n",
      "2521  Determined to bring a Zika vaccine to the remo...  \n",
      "2191  A down-and-out DJ plots to rebuild his music c...  \n",
      "3305  The irrepressible Alonzo skewers Latino stereo...  \n",
      "\n",
      " ---------------------------------------------------------------------------------------------------- \n",
      "\n",
      "(6234, 12)\n",
      "\n",
      " ---------------------------------------------------------------------------------------------------- \n",
      "\n",
      "<class 'pandas.core.frame.DataFrame'>\n",
      "RangeIndex: 6234 entries, 0 to 6233\n",
      "Data columns (total 12 columns):\n",
      " #   Column        Non-Null Count  Dtype \n",
      "---  ------        --------------  ----- \n",
      " 0   show_id       6234 non-null   int64 \n",
      " 1   type          6234 non-null   object\n",
      " 2   title         6234 non-null   object\n",
      " 3   director      4265 non-null   object\n",
      " 4   cast          5664 non-null   object\n",
      " 5   country       5758 non-null   object\n",
      " 6   date_added    6223 non-null   object\n",
      " 7   release_year  6234 non-null   int64 \n",
      " 8   rating        6224 non-null   object\n",
      " 9   duration      6234 non-null   object\n",
      " 10  listed_in     6234 non-null   object\n",
      " 11  description   6234 non-null   object\n",
      "dtypes: int64(2), object(10)\n",
      "memory usage: 584.6+ KB\n",
      "None\n",
      "\n",
      " ---------------------------------------------------------------------------------------------------- \n",
      "\n",
      "            show_id  release_year\n",
      "count  6.234000e+03    6234.00000\n",
      "mean   7.670368e+07    2013.35932\n",
      "std    1.094296e+07       8.81162\n",
      "min    2.477470e+05    1925.00000\n",
      "25%    8.003580e+07    2013.00000\n",
      "50%    8.016337e+07    2016.00000\n",
      "75%    8.024489e+07    2018.00000\n",
      "max    8.123573e+07    2020.00000\n",
      "\n",
      " ---------------------------------------------------------------------------------------------------- \n",
      "\n"
     ]
    }
   ],
   "source": [
    "netflix=pd.read_csv(\"/kaggle/input/netflix-shows/netflix_titles.csv\")\n",
    "print(netflix.sample(10))\n",
    "print('\\n','-'*100,'\\n')\n",
    "print(netflix.shape)\n",
    "print('\\n','-'*100,'\\n')\n",
    "print(netflix.info())\n",
    "print('\\n','-'*100,'\\n')\n",
    "print(netflix.describe())\n",
    "print('\\n','-'*100,'\\n')"
   ]
  },
  {
   "cell_type": "markdown",
   "metadata": {
    "papermill": {
     "duration": 0.018039,
     "end_time": "2020-10-03T14:38:20.228238",
     "exception": false,
     "start_time": "2020-10-03T14:38:20.210199",
     "status": "completed"
    },
    "tags": []
   },
   "source": [
    "# Data Preprocessing and Exploration"
   ]
  },
  {
   "cell_type": "code",
   "execution_count": 4,
   "metadata": {
    "papermill": {
     "duration": 0.216602,
     "end_time": "2020-10-03T14:38:20.463526",
     "exception": false,
     "start_time": "2020-10-03T14:38:20.246924",
     "status": "completed"
    },
    "tags": []
   },
   "outputs": [
    {
     "data": {
      "image/png": "[encoded data removed]",
      "text/plain": [
       "<Figure size 432x288 with 1 Axes>"
      ]
     },
     "metadata": {},
     "output_type": "display_data"
    }
   ],
   "source": [
    "_ = sns.countplot(x=\"type\", data=netflix)"
   ]
  },
  {
   "cell_type": "code",
   "execution_count": 5,
   "metadata": {
    "papermill": {
     "duration": 0.59957,
     "end_time": "2020-10-03T14:38:21.082839",
     "exception": false,
     "start_time": "2020-10-03T14:38:20.483269",
     "status": "completed"
    },
    "tags": []
   },
   "outputs": [
    {
     "data": {
      "image/png": "[encoded data removed]",
      "text/plain": [
       "<Figure size 1440x1440 with 1 Axes>"
      ]
     },
     "metadata": {},
     "output_type": "display_data"
    }
   ],
   "source": [
    "plt.figure(figsize=(20,20))\n",
    "_ = sns.countplot(x=\"country\", data=netflix, order=netflix['country'].value_counts().index[0:15])"
   ]
  },
  {
   "cell_type": "code",
   "execution_count": 6,
   "metadata": {
    "papermill": {
     "duration": 0.419548,
     "end_time": "2020-10-03T14:38:21.523088",
     "exception": false,
     "start_time": "2020-10-03T14:38:21.103540",
     "status": "completed"
    },
    "tags": []
   },
   "outputs": [
    {
     "data": {
      "image/png": "[encoded data removed]",
      "text/plain": [
       "<Figure size 864x864 with 1 Axes>"
      ]
     },
     "metadata": {},
     "output_type": "display_data"
    }
   ],
   "source": [
    "plt.figure(figsize=(12,12))\n",
    "_ = sns.countplot(x=\"rating\", data=netflix, order=netflix['rating'].value_counts().index[0:15])"
   ]
  },
  {
   "cell_type": "code",
   "execution_count": 7,
   "metadata": {
    "papermill": {
     "duration": 0.416639,
     "end_time": "2020-10-03T14:38:21.961489",
     "exception": false,
     "start_time": "2020-10-03T14:38:21.544850",
     "status": "completed"
    },
    "tags": []
   },
   "outputs": [
    {
     "data": {
      "image/png": "[encoded data removed]",
      "text/plain": [
       "<Figure size 864x864 with 1 Axes>"
      ]
     },
     "metadata": {},
     "output_type": "display_data"
    }
   ],
   "source": [
    "plt.figure(figsize=(12,12))\n",
    "_ = sns.countplot(x=\"release_year\", data=netflix, order=netflix['release_year'].value_counts().index[0:15])"
   ]
  },
  {
   "cell_type": "markdown",
   "metadata": {
    "papermill": {
     "duration": 0.0229,
     "end_time": "2020-10-03T14:38:22.006746",
     "exception": false,
     "start_time": "2020-10-03T14:38:21.983846",
     "status": "completed"
    },
    "tags": []
   },
   "source": [
    "# Recommendation System"
   ]
  },
  {
   "cell_type": "code",
   "execution_count": 8,
   "metadata": {
    "papermill": {
     "duration": 0.064183,
     "end_time": "2020-10-03T14:38:22.097128",
     "exception": false,
     "start_time": "2020-10-03T14:38:22.032945",
     "status": "completed"
    },
    "tags": []
   },
   "outputs": [
    {
     "data": {
      "text/html": [
       "<div>\n",
       "<style scoped>\n",
       "    .dataframe tbody tr th:only-of-type {\n",
       "        vertical-align: middle;\n",
       "    }\n",
       "\n",
       "    .dataframe tbody tr th {\n",
       "        vertical-align: top;\n",
       "    }\n",
       "\n",
       "    .dataframe thead th {\n",
       "        text-align: right;\n",
       "    }\n",
       "</style>\n",
       "<table border=\"1\" class=\"dataframe\">\n",
       "  <thead>\n",
       "    <tr style=\"text-align: right;\">\n",
       "      <th></th>\n",
       "      <th>show_id</th>\n",
       "      <th>type</th>\n",
       "      <th>title</th>\n",
       "      <th>director</th>\n",
       "      <th>cast</th>\n",
       "      <th>country</th>\n",
       "      <th>date_added</th>\n",
       "      <th>release_year</th>\n",
       "      <th>rating</th>\n",
       "      <th>duration</th>\n",
       "      <th>listed_in</th>\n",
       "      <th>description</th>\n",
       "    </tr>\n",
       "  </thead>\n",
       "  <tbody>\n",
       "    <tr>\n",
       "      <th>0</th>\n",
       "      <td>81145628</td>\n",
       "      <td>Movie</td>\n",
       "      <td>Norm of the North: King Sized Adventure</td>\n",
       "      <td>Richard Finn, Tim Maltby</td>\n",
       "      <td>Alan Marriott, Andrew Toth, Brian Dobson, Cole...</td>\n",
       "      <td>United States, India, South Korea, China</td>\n",
       "      <td>September 9, 2019</td>\n",
       "      <td>2019</td>\n",
       "      <td>TV-PG</td>\n",
       "      <td>90 min</td>\n",
       "      <td>Children &amp; Family Movies, Comedies</td>\n",
       "      <td>Before planning an awesome wedding for his gra...</td>\n",
       "    </tr>\n",
       "    <tr>\n",
       "      <th>1</th>\n",
       "      <td>80117401</td>\n",
       "      <td>Movie</td>\n",
       "      <td>Jandino: Whatever it Takes</td>\n",
       "      <td></td>\n",
       "      <td>Jandino Asporaat</td>\n",
       "      <td>United Kingdom</td>\n",
       "      <td>September 9, 2016</td>\n",
       "      <td>2016</td>\n",
       "      <td>TV-MA</td>\n",
       "      <td>94 min</td>\n",
       "      <td>Stand-Up Comedy</td>\n",
       "      <td>Jandino Asporaat riffs on the challenges of ra...</td>\n",
       "    </tr>\n",
       "    <tr>\n",
       "      <th>2</th>\n",
       "      <td>70234439</td>\n",
       "      <td>TV Show</td>\n",
       "      <td>Transformers Prime</td>\n",
       "      <td></td>\n",
       "      <td>Peter Cullen, Sumalee Montano, Frank Welker, J...</td>\n",
       "      <td>United States</td>\n",
       "      <td>September 8, 2018</td>\n",
       "      <td>2013</td>\n",
       "      <td>TV-Y7-FV</td>\n",
       "      <td>1 Season</td>\n",
       "      <td>Kids' TV</td>\n",
       "      <td>With the help of three human allies, the Autob...</td>\n",
       "    </tr>\n",
       "    <tr>\n",
       "      <th>3</th>\n",
       "      <td>80058654</td>\n",
       "      <td>TV Show</td>\n",
       "      <td>Transformers: Robots in Disguise</td>\n",
       "      <td></td>\n",
       "      <td>Will Friedle, Darren Criss, Constance Zimmer, ...</td>\n",
       "      <td>United States</td>\n",
       "      <td>September 8, 2018</td>\n",
       "      <td>2016</td>\n",
       "      <td>TV-Y7</td>\n",
       "      <td>1 Season</td>\n",
       "      <td>Kids' TV</td>\n",
       "      <td>When a prison ship crash unleashes hundreds of...</td>\n",
       "    </tr>\n",
       "    <tr>\n",
       "      <th>4</th>\n",
       "      <td>80125979</td>\n",
       "      <td>Movie</td>\n",
       "      <td>#realityhigh</td>\n",
       "      <td>Fernando Lebrija</td>\n",
       "      <td>Nesta Cooper, Kate Walsh, John Michael Higgins...</td>\n",
       "      <td>United States</td>\n",
       "      <td>September 8, 2017</td>\n",
       "      <td>2017</td>\n",
       "      <td>TV-14</td>\n",
       "      <td>99 min</td>\n",
       "      <td>Comedies</td>\n",
       "      <td>When nerdy high schooler Dani finally attracts...</td>\n",
       "    </tr>\n",
       "  </tbody>\n",
       "</table>\n",
       "</div>"
      ],
      "text/plain": [
       "    show_id     type                                    title  \\\n",
       "0  81145628    Movie  Norm of the North: King Sized Adventure   \n",
       "1  80117401    Movie               Jandino: Whatever it Takes   \n",
       "2  70234439  TV Show                       Transformers Prime   \n",
       "3  80058654  TV Show         Transformers: Robots in Disguise   \n",
       "4  80125979    Movie                             #realityhigh   \n",
       "\n",
       "                   director  \\\n",
       "0  Richard Finn, Tim Maltby   \n",
       "1                             \n",
       "2                             \n",
       "3                             \n",
       "4          Fernando Lebrija   \n",
       "\n",
       "                                                cast  \\\n",
       "0  Alan Marriott, Andrew Toth, Brian Dobson, Cole...   \n",
       "1                                   Jandino Asporaat   \n",
       "2  Peter Cullen, Sumalee Montano, Frank Welker, J...   \n",
       "3  Will Friedle, Darren Criss, Constance Zimmer, ...   \n",
       "4  Nesta Cooper, Kate Walsh, John Michael Higgins...   \n",
       "\n",
       "                                    country         date_added  release_year  \\\n",
       "0  United States, India, South Korea, China  September 9, 2019          2019   \n",
       "1                            United Kingdom  September 9, 2016          2016   \n",
       "2                             United States  September 8, 2018          2013   \n",
       "3                             United States  September 8, 2018          2016   \n",
       "4                             United States  September 8, 2017          2017   \n",
       "\n",
       "     rating  duration                           listed_in  \\\n",
       "0     TV-PG    90 min  Children & Family Movies, Comedies   \n",
       "1     TV-MA    94 min                     Stand-Up Comedy   \n",
       "2  TV-Y7-FV  1 Season                            Kids' TV   \n",
       "3     TV-Y7  1 Season                            Kids' TV   \n",
       "4     TV-14    99 min                            Comedies   \n",
       "\n",
       "                                         description  \n",
       "0  Before planning an awesome wedding for his gra...  \n",
       "1  Jandino Asporaat riffs on the challenges of ra...  \n",
       "2  With the help of three human allies, the Autob...  \n",
       "3  When a prison ship crash unleashes hundreds of...  \n",
       "4  When nerdy high schooler Dani finally attracts...  "
      ]
     },
     "execution_count": 8,
     "metadata": {},
     "output_type": "execute_result"
    }
   ],
   "source": [
    "filledna=netflix.fillna('')\n",
    "filledna.head()"
   ]
  },
  {
   "cell_type": "code",
   "execution_count": 9,
   "metadata": {
    "papermill": {
     "duration": 0.033752,
     "end_time": "2020-10-03T14:38:22.153986",
     "exception": false,
     "start_time": "2020-10-03T14:38:22.120234",
     "status": "completed"
    },
    "tags": []
   },
   "outputs": [],
   "source": [
    "def clean_data(x):\n",
    "        return str.lower(x.replace(\" \", \"\"))"
   ]
  },
  {
   "cell_type": "code",
   "execution_count": 10,
   "metadata": {
    "papermill": {
     "duration": 0.039044,
     "end_time": "2020-10-03T14:38:22.217270",
     "exception": false,
     "start_time": "2020-10-03T14:38:22.178226",
     "status": "completed"
    },
    "tags": []
   },
   "outputs": [],
   "source": [
    "features=['title','director','cast','listed_in','description']\n",
    "filledna=filledna[features]"
   ]
  },
  {
   "cell_type": "code",
   "execution_count": 11,
   "metadata": {
    "papermill": {
     "duration": 0.093242,
     "end_time": "2020-10-03T14:38:22.333808",
     "exception": false,
     "start_time": "2020-10-03T14:38:22.240566",
     "status": "completed"
    },
    "tags": []
   },
   "outputs": [
    {
     "data": {
      "text/html": [
       "<div>\n",
       "<style scoped>\n",
       "    .dataframe tbody tr th:only-of-type {\n",
       "        vertical-align: middle;\n",
       "    }\n",
       "\n",
       "    .dataframe tbody tr th {\n",
       "        vertical-align: top;\n",
       "    }\n",
       "\n",
       "    .dataframe thead th {\n",
       "        text-align: right;\n",
       "    }\n",
       "</style>\n",
       "<table border=\"1\" class=\"dataframe\">\n",
       "  <thead>\n",
       "    <tr style=\"text-align: right;\">\n",
       "      <th></th>\n",
       "      <th>title</th>\n",
       "      <th>director</th>\n",
       "      <th>cast</th>\n",
       "      <th>listed_in</th>\n",
       "      <th>description</th>\n",
       "    </tr>\n",
       "  </thead>\n",
       "  <tbody>\n",
       "    <tr>\n",
       "      <th>0</th>\n",
       "      <td>normofthenorth:kingsizedadventure</td>\n",
       "      <td>richardfinn,timmaltby</td>\n",
       "      <td>alanmarriott,andrewtoth,briandobson,colehoward...</td>\n",
       "      <td>children&amp;familymovies,comedies</td>\n",
       "      <td>beforeplanninganawesomeweddingforhisgrandfathe...</td>\n",
       "    </tr>\n",
       "    <tr>\n",
       "      <th>1</th>\n",
       "      <td>jandino:whateverittakes</td>\n",
       "      <td></td>\n",
       "      <td>jandinoasporaat</td>\n",
       "      <td>stand-upcomedy</td>\n",
       "      <td>jandinoasporaatriffsonthechallengesofraisingki...</td>\n",
       "    </tr>\n",
       "    <tr>\n",
       "      <th>2</th>\n",
       "      <td>transformersprime</td>\n",
       "      <td></td>\n",
       "      <td>petercullen,sumaleemontano,frankwelker,jeffrey...</td>\n",
       "      <td>kids'tv</td>\n",
       "      <td>withthehelpofthreehumanallies,theautobotsoncea...</td>\n",
       "    </tr>\n",
       "    <tr>\n",
       "      <th>3</th>\n",
       "      <td>transformers:robotsindisguise</td>\n",
       "      <td></td>\n",
       "      <td>willfriedle,darrencriss,constancezimmer,kharyp...</td>\n",
       "      <td>kids'tv</td>\n",
       "      <td>whenaprisonshipcrashunleasheshundredsofdecepti...</td>\n",
       "    </tr>\n",
       "    <tr>\n",
       "      <th>4</th>\n",
       "      <td>#realityhigh</td>\n",
       "      <td>fernandolebrija</td>\n",
       "      <td>nestacooper,katewalsh,johnmichaelhiggins,keith...</td>\n",
       "      <td>comedies</td>\n",
       "      <td>whennerdyhighschoolerdanifinallyattractstheint...</td>\n",
       "    </tr>\n",
       "  </tbody>\n",
       "</table>\n",
       "</div>"
      ],
      "text/plain": [
       "                               title               director  \\\n",
       "0  normofthenorth:kingsizedadventure  richardfinn,timmaltby   \n",
       "1            jandino:whateverittakes                          \n",
       "2                  transformersprime                          \n",
       "3      transformers:robotsindisguise                          \n",
       "4                       #realityhigh        fernandolebrija   \n",
       "\n",
       "                                                cast  \\\n",
       "0  alanmarriott,andrewtoth,briandobson,colehoward...   \n",
       "1                                    jandinoasporaat   \n",
       "2  petercullen,sumaleemontano,frankwelker,jeffrey...   \n",
       "3  willfriedle,darrencriss,constancezimmer,kharyp...   \n",
       "4  nestacooper,katewalsh,johnmichaelhiggins,keith...   \n",
       "\n",
       "                        listed_in  \\\n",
       "0  children&familymovies,comedies   \n",
       "1                  stand-upcomedy   \n",
       "2                         kids'tv   \n",
       "3                         kids'tv   \n",
       "4                        comedies   \n",
       "\n",
       "                                         description  \n",
       "0  beforeplanninganawesomeweddingforhisgrandfathe...  \n",
       "1  jandinoasporaatriffsonthechallengesofraisingki...  \n",
       "2  withthehelpofthreehumanallies,theautobotsoncea...  \n",
       "3  whenaprisonshipcrashunleasheshundredsofdecepti...  \n",
       "4  whennerdyhighschoolerdanifinallyattractstheint...  "
      ]
     },
     "execution_count": 11,
     "metadata": {},
     "output_type": "execute_result"
    }
   ],
   "source": [
    "for feature in features:\n",
    "    filledna[feature] = filledna[feature].apply(clean_data)\n",
    "    \n",
    "filledna.head()"
   ]
  },
  {
   "cell_type": "code",
   "execution_count": 12,
   "metadata": {
    "papermill": {
     "duration": 0.036094,
     "end_time": "2020-10-03T14:38:22.394824",
     "exception": false,
     "start_time": "2020-10-03T14:38:22.358730",
     "status": "completed"
    },
    "tags": []
   },
   "outputs": [],
   "source": [
    "def create_soup(x):\n",
    "    return x['title']+ ' ' + x['director'] + ' ' + x['cast'] + ' ' +x['listed_in']+' '+ x['description']"
   ]
  },
  {
   "cell_type": "code",
   "execution_count": 13,
   "metadata": {
    "papermill": {
     "duration": 0.72131,
     "end_time": "2020-10-03T14:38:23.141020",
     "exception": false,
     "start_time": "2020-10-03T14:38:22.419710",
     "status": "completed"
    },
    "tags": []
   },
   "outputs": [],
   "source": [
    "filledna['soup'] = filledna.apply(create_soup, axis=1)"
   ]
  },
  {
   "cell_type": "code",
   "execution_count": 14,
   "metadata": {
    "papermill": {
     "duration": 1.299999,
     "end_time": "2020-10-03T14:38:24.464861",
     "exception": false,
     "start_time": "2020-10-03T14:38:23.164862",
     "status": "completed"
    },
    "tags": []
   },
   "outputs": [],
   "source": [
    "from sklearn.feature_extraction.text import CountVectorizer\n",
    "from sklearn.metrics.pairwise import cosine_similarity\n",
    "\n",
    "count = CountVectorizer(stop_words='english')\n",
    "count_matrix = count.fit_transform(filledna['soup'])\n",
    "\n",
    "cos_sim = cosine_similarity(count_matrix, count_matrix)"
   ]
  },
  {
   "cell_type": "code",
   "execution_count": 15,
   "metadata": {
    "papermill": {
     "duration": 0.039005,
     "end_time": "2020-10-03T14:38:24.528277",
     "exception": false,
     "start_time": "2020-10-03T14:38:24.489272",
     "status": "completed"
    },
    "tags": []
   },
   "outputs": [],
   "source": [
    "filledna=filledna.reset_index()\n",
    "indices = pd.Series(filledna.index, index=filledna['title'])"
   ]
  },
  {
   "cell_type": "code",
   "execution_count": 16,
   "metadata": {
    "papermill": {
     "duration": 0.037992,
     "end_time": "2020-10-03T14:38:24.591182",
     "exception": false,
     "start_time": "2020-10-03T14:38:24.553190",
     "status": "completed"
    },
    "tags": []
   },
   "outputs": [],
   "source": [
    "def Recommend(title):\n",
    "    global cos_sim\n",
    "    title=title.replace(' ','').lower()\n",
    "    idx = indices[title]\n",
    "\n",
    "    # Get the pairwsie similarity scores of all movies with that movie\n",
    "    sim_scores = list(enumerate(cos_sim[idx]))\n",
    "\n",
    "    # Sort the movies based on the similarity scores\n",
    "    sim_scores = sorted(sim_scores, key=lambda x: x[1], reverse=True)\n",
    "\n",
    "    # Get the scores of the 10 most similar movies\n",
    "    sim_scores = sim_scores[1:11]\n",
    "\n",
    "    # Get the movie indices\n",
    "    movie_indices = [i[0] for i in sim_scores]\n",
    "\n",
    "    # Return the top 10 most similar movies\n",
    "    return netflix['title'].iloc[movie_indices]"
   ]
  },
  {
   "cell_type": "code",
   "execution_count": 17,
   "metadata": {
    "papermill": {
     "duration": 0.049687,
     "end_time": "2020-10-03T14:38:24.664776",
     "exception": false,
     "start_time": "2020-10-03T14:38:24.615089",
     "status": "completed"
    },
    "tags": []
   },
   "outputs": [
    {
     "data": {
      "text/plain": [
       "5054                           3 Idiots\n",
       "5494       The Legend of Michael Mishra\n",
       "3093                  Anthony Kaun Hai?\n",
       "2196                             Haapus\n",
       "691                               Sanju\n",
       "4110                   Taare Zameen Par\n",
       "1449                    Chance Pe Dance\n",
       "2194                    Chal Dhar Pakad\n",
       "1746    EMI: Liya Hai To Chukana Padega\n",
       "4920                   Khosla Ka Ghosla\n",
       "Name: title, dtype: object"
      ]
     },
     "execution_count": 17,
     "metadata": {},
     "output_type": "execute_result"
    }
   ],
   "source": [
    "Recommend('PK')"
   ]
  },
  {
   "cell_type": "code",
   "execution_count": 18,
   "metadata": {
    "papermill": {
     "duration": 0.045745,
     "end_time": "2020-10-03T14:38:24.734734",
     "exception": false,
     "start_time": "2020-10-03T14:38:24.688989",
     "status": "completed"
    },
    "tags": []
   },
   "outputs": [
    {
     "data": {
      "text/plain": [
       "3465                                   Giri / Haji\n",
       "6050                   The Frankenstein Chronicles\n",
       "2018                         The Murder Detectives\n",
       "5529                                        Loaded\n",
       "550                                      Bodyguard\n",
       "2505                                 Kiss Me First\n",
       "5859                                  Happy Valley\n",
       "233     How to Live Mortgage Free with Sarah Beeny\n",
       "522                          Terrorism Close Calls\n",
       "1605                                Killer Ratings\n",
       "Name: title, dtype: object"
      ]
     },
     "execution_count": 18,
     "metadata": {},
     "output_type": "execute_result"
    }
   ],
   "source": [
    "Recommend('Peaky Blinders')"
   ]
  }
 ],
 "metadata": {
  "kernelspec": {
   "display_name": "Python 3",
   "language": "python",
   "name": "python3"
  },
  "language_info": {
   "codemirror_mode": {
    "name": "ipython",
    "version": 3
   },
   "file_extension": ".py",
   "mimetype": "text/x-python",
   "name": "python",
   "nbconvert_exporter": "python",
   "pygments_lexer": "ipython3",
   "version": "3.7.6"
  },
  "papermill": {
   "duration": 11.612803,
   "end_time": "2020-10-03T14:38:25.368133",
   "environment_variables": {},
   "exception": null,
   "input_path": "__notebook__.ipynb",
   "output_path": "__notebook__.ipynb",
   "parameters": {},
   "start_time": "2020-10-03T14:38:13.755330",
   "version": "1.2.1"
  }
 },
 "nbformat": 4,
 "nbformat_minor": 4
}
